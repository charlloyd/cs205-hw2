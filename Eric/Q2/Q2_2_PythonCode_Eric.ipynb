{
 "cells": [
  {
   "cell_type": "markdown",
   "metadata": {},
   "source": [
    "#2. Analysis of Parallel Algorithms [10%]\n",
    "\n",
    "2. Scaled speed-up is defined as the speedup obtained when the problem size is increased linearly with the number of processing elements; that is, if W is chosen as a base problem size for a single processing element, then $$\\text{scaled speedup} = \\frac{pW}{T_p(pW, p)}$$\n",
    "\n",
    "For the problem of adding $n$ numbers on $p$ processing elements, assume that it takes 20 time units to communicate a \n",
    "number between two processing elements, and that it takes one unit of time to add two numbers. Plot the \n",
    "standard speedup curve for the base problem size $p = 1, n = 256$ and compare it with the scaled speedup \n",
    "curve with $p = 2^2, 2^4, 2^5, 2^8$."
   ]
  },
  {
   "cell_type": "code",
   "execution_count": 10,
   "metadata": {
    "collapsed": false
   },
   "outputs": [],
   "source": [
    "import numpy as np\n",
    "import matplotlib.pyplot as plt\n",
    "import math\n",
    "import matplotlib.patches as mpatches\n",
    "\n",
    "#processors\n",
    "exponents  = [2,4,5,8]\n",
    "p = [2**i for i in exponents]\n",
    "\n",
    "#problem size\n",
    "n = 2**8 #256\n",
    "\n",
    "#costs\n",
    "comm = 20\n",
    "W_t = 1 # work per time to sum 2 numbers\n",
    "\n",
    "def serial_time(w_t, n):\n",
    "    T_1 = n*w_t\n",
    "    return(T_1)\n",
    "\n",
    "def parallel_time(p, C, w_t, n):    \n",
    "    T_p = serial_time(w_t,n/p) + C\n",
    "    for i in range(p):\n",
    "        T_p += C + p/(2**i)*w_t\n",
    "    return(T_p)\n",
    "\n",
    "def standard_speed(p, C, w_t, n):\n",
    "    T_p = parallel_time(p, C, w_t, n)\n",
    "    T_1 = serial_time(w_t, n)\n",
    "    \n",
    "    return(T_1/T_p)\n",
    "\n",
    "def scaled_speedNoComm(p, w_t, n):\n",
    "    T_p = serial_time(w_t, n / p)\n",
    "    T_s = 0\n",
    "    \n",
    "    total = T_s + T_p * p\n",
    "\n",
    "    return(p - (p - 1) * (T_s / total))\n",
    "\n",
    "def scaled_speed(p, C, w_t, n):\n",
    "    T_p = serial_time(w_t, n/p) + C\n",
    "    T_s = 0\n",
    "    for i in range(p):\n",
    "        T_s += C + p/(2**i)*w_t\n",
    "    \n",
    "    total = T_s + T_p * p\n",
    "    return(p - (p - 1) * T_s/total)\n",
    "    #return((T_s / total) + p * (1 - T_s / total))\n",
    "\n",
    "\n",
    "\n",
    "scale = [scaled_speed(i,comm, W_t, n) for i in p]\n",
    "scaleNoCom = [scaled_speedNoComm(i, W_t, n) for i in p]\n",
    "stand = [standard_speed(i, comm, W_t, n) for i in p]\n",
    "axes = plt.gca()\n",
    "plt.figure(1)\n",
    "plt.plot(p, stand, '-b', label='Standard Speed-up')\n",
    "plt.plot(p, scale, '-r', label='Scaled Speed-up (With Communication)')\n",
    "plt.plot(p, scaleNoCom, '-k', label='Scaled Speed-up (No Communication)')\n",
    "axes.set_ylim([0,np.ceil(max(scale + stand + scaleNoCom))+1])\n",
    "axes.set_xlim([0,max(p)])\n",
    "plt.xlabel('Number of Processors')\n",
    "plt.ylabel('Speed-up')\n",
    "plt.title('Plot of Speed-up Versus Time')\n",
    "plt.legend(loc=2)\n",
    "plt.savefig(\"figures/speedup.png\")\n",
    "\n",
    "plt.figure(3)\n",
    "axes = plt.gca()\n",
    "plt.plot(p, stand, '-b', label='Standard Speed-up')\n",
    "axes.set_ylim([-float(\"inf\"),0])\n",
    "axes.set_xlim([0,max(p)])\n",
    "plt.yscale('log')\n",
    "plt.xlabel('Number of Processors')\n",
    "plt.ylabel('Speed-up')\n",
    "plt.title('Plot of Stand Speed-up Versus Time')\n",
    "plt.savefig(\"figures/speedup2.png\")"
   ]
  },
  {
   "cell_type": "code",
   "execution_count": null,
   "metadata": {
    "collapsed": true
   },
   "outputs": [],
   "source": []
  },
  {
   "cell_type": "code",
   "execution_count": null,
   "metadata": {
    "collapsed": true
   },
   "outputs": [],
   "source": []
  },
  {
   "cell_type": "code",
   "execution_count": null,
   "metadata": {
    "collapsed": true
   },
   "outputs": [],
   "source": []
  }
 ],
 "metadata": {
  "anaconda-cloud": {},
  "kernelspec": {
   "display_name": "Python [default]",
   "language": "python",
   "name": "python3"
  },
  "language_info": {
   "codemirror_mode": {
    "name": "ipython",
    "version": 3
   },
   "file_extension": ".py",
   "mimetype": "text/x-python",
   "name": "python",
   "nbconvert_exporter": "python",
   "pygments_lexer": "ipython3",
   "version": "3.5.2"
  }
 },
 "nbformat": 4,
 "nbformat_minor": 1
}
